{
 "cells": [
  {
   "cell_type": "code",
   "execution_count": 4,
   "id": "04f3eb62-c843-42b5-9807-40fdd55972de",
   "metadata": {},
   "outputs": [],
   "source": [
    "import pandas as pd"
   ]
  },
  {
   "cell_type": "code",
   "execution_count": 5,
   "id": "0430ad94-58e2-4c86-b5d6-1c0f050046ab",
   "metadata": {},
   "outputs": [],
   "source": [
    "data = {\n",
    "    'ID':[1,2,3,4,5,6],\n",
    "    'Name':['Ram','Sham','Raj','Sita','Gita','Ananya'],\n",
    "    'Age':[25,40,45,20,21,22],\n",
    "    'State':['Maharashtra','Gujrat','Kerala','Goa','Madhya Pradesh','Rajasthan'],\n",
    "    'Sales':[500,200,450,600,800,1000]\n",
    "}"
   ]
  },
  {
   "cell_type": "code",
   "execution_count": 6,
   "id": "f87f6ebb-d64f-4fe3-ac82-cfa5a4deff0f",
   "metadata": {},
   "outputs": [
    {
     "name": "stdout",
     "output_type": "stream",
     "text": [
      "Original Dataset: \n",
      "   ID    Name  Age           State  Sales\n",
      "0   1     Ram   25     Maharashtra    500\n",
      "1   2    Sham   40          Gujrat    200\n",
      "2   3     Raj   45          Kerala    450\n",
      "3   4    Sita   20             Goa    600\n",
      "4   5    Gita   21  Madhya Pradesh    800\n",
      "5   6  Ananya   22       Rajasthan   1000\n"
     ]
    }
   ],
   "source": [
    "df = pd.DataFrame(data)\n",
    "print(\"Original Dataset: \")\n",
    "print(df)"
   ]
  },
  {
   "cell_type": "code",
   "execution_count": 7,
   "id": "a34e1f83-5137-4254-a249-c0eb8f1a57be",
   "metadata": {},
   "outputs": [
    {
     "name": "stdout",
     "output_type": "stream",
     "text": [
      "\n",
      "Character Map (Uppercase Names):\n",
      "   ID    Name Name_Upper\n",
      "0   1     Ram        RAM\n",
      "1   2    Sham       SHAM\n",
      "2   3     Raj        RAJ\n",
      "3   4    Sita       SITA\n",
      "4   5    Gita       GITA\n",
      "5   6  Ananya     ANANYA\n"
     ]
    }
   ],
   "source": [
    "df['Name_Upper'] = df['Name'].str.upper()\n",
    "print(\"\\nCharacter Map (Uppercase Names):\")\n",
    "print(df[['ID','Name','Name_Upper']])"
   ]
  },
  {
   "cell_type": "code",
   "execution_count": 8,
   "id": "d8e805b6-465a-4f11-8d0b-1a1dff5325cd",
   "metadata": {},
   "outputs": [
    {
     "name": "stdout",
     "output_type": "stream",
     "text": [
      "\n",
      "Multicast (Modified Copies):\n",
      "Copy 1 (Sales Increased):\n",
      "   ID    Name  Age           State   Sales Name_Upper\n",
      "0   1     Ram   25     Maharashtra   550.0        RAM\n",
      "1   2    Sham   40          Gujrat   220.0       SHAM\n",
      "2   3     Raj   45          Kerala   495.0        RAJ\n",
      "3   4    Sita   20             Goa   660.0       SITA\n",
      "4   5    Gita   21  Madhya Pradesh   880.0       GITA\n",
      "5   6  Ananya   22       Rajasthan  1100.0     ANANYA\n",
      "\n",
      "Copy 2 (Age Increased):\n",
      "   ID    Name  Age           State  Sales Name_Upper\n",
      "0   1     Ram   30     Maharashtra    500        RAM\n",
      "1   2    Sham   45          Gujrat    200       SHAM\n",
      "2   3     Raj   50          Kerala    450        RAJ\n",
      "3   4    Sita   25             Goa    600       SITA\n",
      "4   5    Gita   26  Madhya Pradesh    800       GITA\n",
      "5   6  Ananya   27       Rajasthan   1000     ANANYA\n"
     ]
    }
   ],
   "source": [
    "# Multicast: Create two copies of the dataset\n",
    "df_copy1 = df.copy()\n",
    "df_copy2 = df.copy()\n",
    "\n",
    "# Transformations on each copy\n",
    "df_copy1['Sales'] *= 1.1\n",
    "df_copy2['Age'] += 5\n",
    "\n",
    "print(\"\\nMulticast (Modified Copies):\")\n",
    "print(\"Copy 1 (Sales Increased):\")\n",
    "print(df_copy1)\n",
    "print(\"\\nCopy 2 (Age Increased):\")\n",
    "print(df_copy2)"
   ]
  },
  {
   "cell_type": "code",
   "execution_count": 9,
   "id": "2880ef4a-4cae-423a-9744-d298a6fa19e0",
   "metadata": {},
   "outputs": [
    {
     "name": "stdout",
     "output_type": "stream",
     "text": [
      "\n",
      "Conditional Split:\n",
      "High Sales:\n",
      "   ID    Name  Age           State  Sales Name_Upper\n",
      "0   1     Ram   25     Maharashtra    500        RAM\n",
      "2   3     Raj   45          Kerala    450        RAJ\n",
      "3   4    Sita   20             Goa    600       SITA\n",
      "4   5    Gita   21  Madhya Pradesh    800       GITA\n",
      "5   6  Ananya   22       Rajasthan   1000     ANANYA\n",
      "\n",
      "Low Sales\n",
      "   ID  Name  Age   State  Sales Name_Upper\n",
      "1   2  Sham   40  Gujrat    200       SHAM\n"
     ]
    }
   ],
   "source": [
    "# Conditional Split: Sales>300\n",
    "high_sales = df[df['Sales']>300]\n",
    "low_sales = df[df['Sales']<=300]\n",
    "print(\"\\nConditional Split:\")\n",
    "print(\"High Sales:\")\n",
    "print(high_sales)\n",
    "print(\"\\nLow Sales\")\n",
    "print(low_sales)"
   ]
  },
  {
   "cell_type": "code",
   "execution_count": 11,
   "id": "2aba79dd-c62e-4774-9088-5cc77742ddbc",
   "metadata": {},
   "outputs": [
    {
     "name": "stdout",
     "output_type": "stream",
     "text": [
      "\n",
      "Aggregation (Total Sales by Country):\n",
      "            State  Sales\n",
      "0             Goa    600\n",
      "1          Gujrat    200\n",
      "2          Kerala    450\n",
      "3  Madhya Pradesh    800\n",
      "4     Maharashtra    500\n",
      "5       Rajasthan   1000\n"
     ]
    }
   ],
   "source": [
    "# Aggregation\n",
    "\n",
    "agg_df = df.groupby('State')['Sales'].sum().reset_index()\n",
    "print(\"\\nAggregation (Total Sales by Country):\")\n",
    "print(agg_df)"
   ]
  },
  {
   "cell_type": "code",
   "execution_count": 12,
   "id": "6116db14-3979-4799-b54f-fdaa440d18b0",
   "metadata": {},
   "outputs": [
    {
     "name": "stdout",
     "output_type": "stream",
     "text": [
      "\n",
      "Sort (Descending Sales):\n",
      "   ID    Name  Age           State  Sales Name_Upper\n",
      "5   6  Ananya   22       Rajasthan   1000     ANANYA\n",
      "4   5    Gita   21  Madhya Pradesh    800       GITA\n",
      "3   4    Sita   20             Goa    600       SITA\n",
      "0   1     Ram   25     Maharashtra    500        RAM\n",
      "2   3     Raj   45          Kerala    450        RAJ\n",
      "1   2    Sham   40          Gujrat    200       SHAM\n"
     ]
    }
   ],
   "source": [
    "# SORT\n",
    "\n",
    "sorted_df = df.sort_values(by='Sales', ascending=False)\n",
    "print(\"\\nSort (Descending Sales):\")\n",
    "print(sorted_df)"
   ]
  },
  {
   "cell_type": "code",
   "execution_count": 13,
   "id": "efbf1dff-ac5a-467e-bef7-2d28c727c275",
   "metadata": {},
   "outputs": [
    {
     "name": "stdout",
     "output_type": "stream",
     "text": [
      "\n",
      "Derived Column (Sales Category):\n",
      "   ID    Name  Sales Sales_Category\n",
      "0   1     Ram    500           High\n",
      "1   2    Sham    200            Low\n",
      "2   3     Raj    450           High\n",
      "3   4    Sita    600           High\n",
      "4   5    Gita    800           High\n",
      "5   6  Ananya   1000           High\n"
     ]
    }
   ],
   "source": [
    "# Derived Column\n",
    "df['Sales_Category'] = df['Sales'].apply(lambda x: 'High' if x>300 else 'Low')\n",
    "print(\"\\nDerived Column (Sales Category):\")\n",
    "print(df[['ID','Name','Sales','Sales_Category']])"
   ]
  },
  {
   "cell_type": "code",
   "execution_count": null,
   "id": "9aced197-4c57-4a1e-b596-032ef664dd83",
   "metadata": {},
   "outputs": [],
   "source": []
  }
 ],
 "metadata": {
  "kernelspec": {
   "display_name": "Python 3 (ipykernel)",
   "language": "python",
   "name": "python3"
  },
  "language_info": {
   "codemirror_mode": {
    "name": "ipython",
    "version": 3
   },
   "file_extension": ".py",
   "mimetype": "text/x-python",
   "name": "python",
   "nbconvert_exporter": "python",
   "pygments_lexer": "ipython3",
   "version": "3.12.7"
  }
 },
 "nbformat": 4,
 "nbformat_minor": 5
}
